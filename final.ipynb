{
 "cells": [
  {
   "cell_type": "code",
   "execution_count": 75,
   "metadata": {
    "pycharm": {
     "is_executing": false,
     "name": "#%%\n"
    }
   },
   "outputs": [
    {
     "name": "stderr",
     "output_type": "stream",
     "text": [
      "[nltk_data] Downloading package stopwords to\n",
      "[nltk_data]     /Users/valentin/nltk_data...\n",
      "[nltk_data]   Package stopwords is already up-to-date!\n"
     ]
    }
   ],
   "source": [
    "import pandas as pd\n",
    "import numpy as np\n",
    "import tensorflow as tf\n",
    "import re\n",
    "from nltk.corpus import stopwords\n",
    "import nltk\n",
    "nltk.download('stopwords')\n",
    "from sklearn.model_selection import train_test_split\n",
    "from sklearn.metrics import median_absolute_error as mae\n",
    "from sklearn.metrics import mean_squared_error as mse\n",
    "from sklearn.metrics import accuracy_score as acc\n",
    "import matplotlib.pyplot as plt\n",
    "from keras.models import Sequential\n",
    "from keras import initializers\n",
    "from keras.layers import Dropout, Activation, Embedding, Convolution1D, MaxPooling1D, Input, Dense, Merge,                          BatchNormalization, Flatten, Reshape, Concatenate\n",
    "from keras.layers.recurrent import LSTM, GRU\n",
    "from keras.callbacks import Callback, ModelCheckpoint, EarlyStopping, ReduceLROnPlateau\n",
    "from keras.models import Model\n",
    "from keras.optimizers import Adam, SGD, RMSprop\n",
    "from keras import regularizers"
   ]
  },
  {
   "cell_type": "code",
   "execution_count": 76,
   "metadata": {
    "pycharm": {
     "is_executing": false,
     "name": "#%%\n"
    }
   },
   "outputs": [
    {
     "data": {
      "text/html": [
       "<div>\n",
       "<style scoped>\n",
       "    .dataframe tbody tr th:only-of-type {\n",
       "        vertical-align: middle;\n",
       "    }\n",
       "\n",
       "    .dataframe tbody tr th {\n",
       "        vertical-align: top;\n",
       "    }\n",
       "\n",
       "    .dataframe thead th {\n",
       "        text-align: right;\n",
       "    }\n",
       "</style>\n",
       "<table border=\"1\" class=\"dataframe\">\n",
       "  <thead>\n",
       "    <tr style=\"text-align: right;\">\n",
       "      <th></th>\n",
       "      <th>Date</th>\n",
       "      <th>Open</th>\n",
       "      <th>High</th>\n",
       "      <th>Low</th>\n",
       "      <th>Close</th>\n",
       "      <th>Volume</th>\n",
       "      <th>Adj Close</th>\n",
       "    </tr>\n",
       "  </thead>\n",
       "  <tbody>\n",
       "    <tr>\n",
       "      <th>0</th>\n",
       "      <td>2016-07-01</td>\n",
       "      <td>4837.180176</td>\n",
       "      <td>4880.169922</td>\n",
       "      <td>4837.169922</td>\n",
       "      <td>4862.569824</td>\n",
       "      <td>1745130000</td>\n",
       "      <td>4862.569824</td>\n",
       "    </tr>\n",
       "    <tr>\n",
       "      <th>1</th>\n",
       "      <td>2016-06-30</td>\n",
       "      <td>4793.750000</td>\n",
       "      <td>4843.109863</td>\n",
       "      <td>4774.520020</td>\n",
       "      <td>4842.669922</td>\n",
       "      <td>2171180000</td>\n",
       "      <td>4842.669922</td>\n",
       "    </tr>\n",
       "    <tr>\n",
       "      <th>2</th>\n",
       "      <td>2016-06-29</td>\n",
       "      <td>4732.930176</td>\n",
       "      <td>4787.589844</td>\n",
       "      <td>4732.339844</td>\n",
       "      <td>4779.250000</td>\n",
       "      <td>2116550000</td>\n",
       "      <td>4779.250000</td>\n",
       "    </tr>\n",
       "    <tr>\n",
       "      <th>3</th>\n",
       "      <td>2016-06-28</td>\n",
       "      <td>4643.930176</td>\n",
       "      <td>4692.979980</td>\n",
       "      <td>4643.930176</td>\n",
       "      <td>4691.870117</td>\n",
       "      <td>2074090000</td>\n",
       "      <td>4691.870117</td>\n",
       "    </tr>\n",
       "    <tr>\n",
       "      <th>4</th>\n",
       "      <td>2016-06-27</td>\n",
       "      <td>4664.430176</td>\n",
       "      <td>4665.040039</td>\n",
       "      <td>4574.250000</td>\n",
       "      <td>4594.439941</td>\n",
       "      <td>2659650000</td>\n",
       "      <td>4594.439941</td>\n",
       "    </tr>\n",
       "  </tbody>\n",
       "</table>\n",
       "</div>"
      ],
      "text/plain": [
       "         Date         Open         High          Low        Close      Volume  \\\n",
       "0  2016-07-01  4837.180176  4880.169922  4837.169922  4862.569824  1745130000   \n",
       "1  2016-06-30  4793.750000  4843.109863  4774.520020  4842.669922  2171180000   \n",
       "2  2016-06-29  4732.930176  4787.589844  4732.339844  4779.250000  2116550000   \n",
       "3  2016-06-28  4643.930176  4692.979980  4643.930176  4691.870117  2074090000   \n",
       "4  2016-06-27  4664.430176  4665.040039  4574.250000  4594.439941  2659650000   \n",
       "\n",
       "     Adj Close  \n",
       "0  4862.569824  \n",
       "1  4842.669922  \n",
       "2  4779.250000  \n",
       "3  4691.870117  \n",
       "4  4594.439941  "
      ]
     },
     "execution_count": 76,
     "metadata": {},
     "output_type": "execute_result"
    }
   ],
   "source": [
    "index_dataset = pd.read_csv(\"nasdaq.csv\")\n",
    "news_dataset = pd.read_csv(\"news.csv\")\n",
    "index_dataset.head()"
   ]
  },
  {
   "cell_type": "code",
   "execution_count": 77,
   "metadata": {
    "pycharm": {
     "is_executing": false,
     "name": "#%%\n"
    }
   },
   "outputs": [
    {
     "data": {
      "text/plain": [
       "Date         0\n",
       "Open         0\n",
       "High         0\n",
       "Low          0\n",
       "Close        0\n",
       "Volume       0\n",
       "Adj Close    0\n",
       "dtype: int64"
      ]
     },
     "execution_count": 77,
     "metadata": {},
     "output_type": "execute_result"
    }
   ],
   "source": [
    "index_dataset.isnull().sum()"
   ]
  },
  {
   "cell_type": "code",
   "execution_count": 78,
   "metadata": {
    "pycharm": {
     "is_executing": false,
     "name": "#%%\n"
    }
   },
   "outputs": [
    {
     "data": {
      "text/plain": [
       "Date    0\n",
       "News    0\n",
       "dtype: int64"
      ]
     },
     "execution_count": 78,
     "metadata": {},
     "output_type": "execute_result"
    }
   ],
   "source": [
    "news_dataset.isnull().sum()"
   ]
  },
  {
   "cell_type": "code",
   "execution_count": 79,
   "metadata": {
    "pycharm": {
     "is_executing": false,
     "name": "#%%\n"
    }
   },
   "outputs": [
    {
     "data": {
      "text/html": [
       "<div>\n",
       "<style scoped>\n",
       "    .dataframe tbody tr th:only-of-type {\n",
       "        vertical-align: middle;\n",
       "    }\n",
       "\n",
       "    .dataframe tbody tr th {\n",
       "        vertical-align: top;\n",
       "    }\n",
       "\n",
       "    .dataframe thead th {\n",
       "        text-align: right;\n",
       "    }\n",
       "</style>\n",
       "<table border=\"1\" class=\"dataframe\">\n",
       "  <thead>\n",
       "    <tr style=\"text-align: right;\">\n",
       "      <th></th>\n",
       "      <th>Date</th>\n",
       "      <th>News</th>\n",
       "    </tr>\n",
       "  </thead>\n",
       "  <tbody>\n",
       "    <tr>\n",
       "      <th>0</th>\n",
       "      <td>2016-07-01</td>\n",
       "      <td>A 117-year-old woman in Mexico City finally re...</td>\n",
       "    </tr>\n",
       "    <tr>\n",
       "      <th>1</th>\n",
       "      <td>2016-07-01</td>\n",
       "      <td>IMF chief backs Athens as permanent Olympic host</td>\n",
       "    </tr>\n",
       "    <tr>\n",
       "      <th>2</th>\n",
       "      <td>2016-07-01</td>\n",
       "      <td>The president of France says if Brexit won, so...</td>\n",
       "    </tr>\n",
       "    <tr>\n",
       "      <th>3</th>\n",
       "      <td>2016-07-01</td>\n",
       "      <td>British Man Who Must Give Police 24 Hours' Not...</td>\n",
       "    </tr>\n",
       "    <tr>\n",
       "      <th>4</th>\n",
       "      <td>2016-07-01</td>\n",
       "      <td>100+ Nobel laureates urge Greenpeace to stop o...</td>\n",
       "    </tr>\n",
       "  </tbody>\n",
       "</table>\n",
       "</div>"
      ],
      "text/plain": [
       "         Date                                               News\n",
       "0  2016-07-01  A 117-year-old woman in Mexico City finally re...\n",
       "1  2016-07-01   IMF chief backs Athens as permanent Olympic host\n",
       "2  2016-07-01  The president of France says if Brexit won, so...\n",
       "3  2016-07-01  British Man Who Must Give Police 24 Hours' Not...\n",
       "4  2016-07-01  100+ Nobel laureates urge Greenpeace to stop o..."
      ]
     },
     "execution_count": 79,
     "metadata": {},
     "output_type": "execute_result"
    }
   ],
   "source": [
    "news_dataset.head()"
   ]
  },
  {
   "cell_type": "code",
   "execution_count": 80,
   "metadata": {
    "pycharm": {
     "is_executing": false,
     "name": "#%%\n"
    }
   },
   "outputs": [
    {
     "name": "stdout",
     "output_type": "stream",
     "text": [
      "(1989, 7)\n",
      "(73608, 2)\n"
     ]
    }
   ],
   "source": [
    "print(index_dataset.shape)\n",
    "print(news_dataset.shape)"
   ]
  },
  {
   "cell_type": "code",
   "execution_count": 81,
   "metadata": {
    "pycharm": {
     "is_executing": false,
     "name": "#%%\n"
    }
   },
   "outputs": [
    {
     "name": "stdout",
     "output_type": "stream",
     "text": [
      "1989\n",
      "2943\n"
     ]
    }
   ],
   "source": [
    "#кол-во уникальных дат\n",
    "print(len(set(index_dataset.Date)))\n",
    "print(len(set(news_dataset.Date)))"
   ]
  },
  {
   "cell_type": "code",
   "execution_count": 82,
   "metadata": {
    "pycharm": {
     "is_executing": false,
     "name": "#%%\n"
    }
   },
   "outputs": [
    {
     "name": "stdout",
     "output_type": "stream",
     "text": [
      "1989\n",
      "1989\n"
     ]
    }
   ],
   "source": [
    "#удаление лишних данных из новостей\n",
    "news_dataset = news_dataset[news_dataset.Date.isin(index_dataset.Date)]\n",
    "print(len(set(index_dataset.Date)))\n",
    "print(len(set(news_dataset.Date)))"
   ]
  },
  {
   "cell_type": "code",
   "execution_count": 83,
   "metadata": {
    "pycharm": {
     "is_executing": false,
     "name": "#%%\n"
    }
   },
   "outputs": [
    {
     "data": {
      "text/html": [
       "<div>\n",
       "<style scoped>\n",
       "    .dataframe tbody tr th:only-of-type {\n",
       "        vertical-align: middle;\n",
       "    }\n",
       "\n",
       "    .dataframe tbody tr th {\n",
       "        vertical-align: top;\n",
       "    }\n",
       "\n",
       "    .dataframe thead th {\n",
       "        text-align: right;\n",
       "    }\n",
       "</style>\n",
       "<table border=\"1\" class=\"dataframe\">\n",
       "  <thead>\n",
       "    <tr style=\"text-align: right;\">\n",
       "      <th></th>\n",
       "      <th>Open</th>\n",
       "      <th>Date</th>\n",
       "    </tr>\n",
       "  </thead>\n",
       "  <tbody>\n",
       "    <tr>\n",
       "      <th>0</th>\n",
       "      <td>NaN</td>\n",
       "      <td>2016-07-01</td>\n",
       "    </tr>\n",
       "    <tr>\n",
       "      <th>1</th>\n",
       "      <td>-43.430176</td>\n",
       "      <td>2016-06-30</td>\n",
       "    </tr>\n",
       "    <tr>\n",
       "      <th>2</th>\n",
       "      <td>-60.819824</td>\n",
       "      <td>2016-06-29</td>\n",
       "    </tr>\n",
       "    <tr>\n",
       "      <th>3</th>\n",
       "      <td>-89.000000</td>\n",
       "      <td>2016-06-28</td>\n",
       "    </tr>\n",
       "    <tr>\n",
       "      <th>4</th>\n",
       "      <td>20.500000</td>\n",
       "      <td>2016-06-27</td>\n",
       "    </tr>\n",
       "  </tbody>\n",
       "</table>\n",
       "</div>"
      ],
      "text/plain": [
       "        Open        Date\n",
       "0        NaN  2016-07-01\n",
       "1 -43.430176  2016-06-30\n",
       "2 -60.819824  2016-06-29\n",
       "3 -89.000000  2016-06-28\n",
       "4  20.500000  2016-06-27"
      ]
     },
     "execution_count": 83,
     "metadata": {},
     "output_type": "execute_result"
    }
   ],
   "source": [
    "#разница в цене открытия между текуущим и прошлым днями\n",
    "index_dataset = index_dataset.set_index('Date').diff(periods=1)\n",
    "index_dataset['Date'] = index_dataset.index\n",
    "index_dataset = index_dataset.reset_index(drop=True)\n",
    "index_dataset = index_dataset.drop(['High','Low','Close','Volume','Adj Close'], 1)\n",
    "index_dataset.head()"
   ]
  },
  {
   "cell_type": "code",
   "execution_count": 84,
   "metadata": {
    "pycharm": {
     "is_executing": false,
     "name": "#%%\n"
    }
   },
   "outputs": [],
   "source": [
    "#удаляем первую строку, т.к. null\n",
    "index_dataset = index_dataset[index_dataset.Open.notnull()]"
   ]
  },
  {
   "cell_type": "code",
   "execution_count": 85,
   "metadata": {
    "pycharm": {
     "is_executing": false,
     "name": "#%%\n"
    }
   },
   "outputs": [
    {
     "data": {
      "text/plain": [
       "Open    0\n",
       "Date    0\n",
       "dtype: int64"
      ]
     },
     "execution_count": 85,
     "metadata": {},
     "output_type": "execute_result"
    }
   ],
   "source": [
    "#проверка на null\n",
    "index_dataset.isnull().sum()"
   ]
  },
  {
   "cell_type": "code",
   "execution_count": 86,
   "metadata": {
    "pycharm": {
     "is_executing": false,
     "name": "#%%\n"
    }
   },
   "outputs": [
    {
     "name": "stdout",
     "output_type": "stream",
     "text": [
      "500\n",
      "1000\n",
      "1500\n"
     ]
    }
   ],
   "source": [
    "#создание списка цен и их соотношения с заголовками новостей\n",
    "price = []\n",
    "headlines = []\n",
    "for row in index_dataset.iterrows():\n",
    "    date = row[1]['Date']\n",
    "    price.append(row[1]['Open'])\n",
    "    daily_headlines = [row_[1]['News'] for row_ in news_dataset[news_dataset.Date == date].iterrows()]\n",
    "    headlines.append(daily_headlines)\n",
    "    if len(price) % 500 == 0:\n",
    "        print(len(price))"
   ]
  },
  {
   "cell_type": "code",
   "execution_count": 87,
   "metadata": {
    "pycharm": {
     "is_executing": false,
     "name": "#%%\n"
    }
   },
   "outputs": [
    {
     "name": "stdout",
     "output_type": "stream",
     "text": [
      "1988\n",
      "1988\n"
     ]
    }
   ],
   "source": [
    "#проверка\n",
    "print(len(price))\n",
    "print(len(headlines))"
   ]
  },
  {
   "cell_type": "code",
   "execution_count": 88,
   "metadata": {
    "pycharm": {
     "is_executing": false,
     "name": "#%%\n"
    }
   },
   "outputs": [
    {
     "name": "stdout",
     "output_type": "stream",
     "text": [
      "25\n",
      "22\n"
     ]
    }
   ],
   "source": [
    "#макс и мин кол-во заголовков в день\n",
    "print(max(len(i) for i in headlines))\n",
    "print(min(len(i) for i in headlines))\n",
    "# print(np.mean(len(i) for i in headlines))"
   ]
  },
  {
   "cell_type": "code",
   "execution_count": 89,
   "metadata": {
    "pycharm": {
     "is_executing": false,
     "name": "#%%\n"
    }
   },
   "outputs": [],
   "source": [
    "#языковые конструкции под замену\n",
    "contractions = { \n",
    "\"ain't\": \"am not\",\n",
    "\"aren't\": \"are not\",\n",
    "\"can't\": \"cannot\",\n",
    "\"can't've\": \"cannot have\",\n",
    "\"'cause\": \"because\",\n",
    "\"could've\": \"could have\",\n",
    "\"couldn't\": \"could not\",\n",
    "\"couldn't've\": \"could not have\",\n",
    "\"didn't\": \"did not\",\n",
    "\"doesn't\": \"does not\",\n",
    "\"don't\": \"do not\",\n",
    "\"hadn't\": \"had not\",\n",
    "\"hadn't've\": \"had not have\",\n",
    "\"hasn't\": \"has not\",\n",
    "\"haven't\": \"have not\",\n",
    "\"he'd\": \"he would\",\n",
    "\"he'd've\": \"he would have\",\n",
    "\"he'll\": \"he will\",\n",
    "\"he's\": \"he is\",\n",
    "\"how'd\": \"how did\",\n",
    "\"how'll\": \"how will\",\n",
    "\"how's\": \"how is\",\n",
    "\"i'd\": \"i would\",\n",
    "\"i'll\": \"i will\",\n",
    "\"i'm\": \"i am\",\n",
    "\"i've\": \"i have\",\n",
    "\"isn't\": \"is not\",\n",
    "\"it'd\": \"it would\",\n",
    "\"it'll\": \"it will\",\n",
    "\"it's\": \"it is\",\n",
    "\"let's\": \"let us\",\n",
    "\"ma'am\": \"madam\",\n",
    "\"mayn't\": \"may not\",\n",
    "\"might've\": \"might have\",\n",
    "\"mightn't\": \"might not\",\n",
    "\"must've\": \"must have\",\n",
    "\"mustn't\": \"must not\",\n",
    "\"needn't\": \"need not\",\n",
    "\"oughtn't\": \"ought not\",\n",
    "\"shan't\": \"shall not\",\n",
    "\"sha'n't\": \"shall not\",\n",
    "\"she'd\": \"she would\",\n",
    "\"she'll\": \"she will\",\n",
    "\"she's\": \"she is\",\n",
    "\"should've\": \"should have\",\n",
    "\"shouldn't\": \"should not\",\n",
    "\"that'd\": \"that would\",\n",
    "\"that's\": \"that is\",\n",
    "\"there'd\": \"there had\",\n",
    "\"there's\": \"there is\",\n",
    "\"they'd\": \"they would\",\n",
    "\"they'll\": \"they will\",\n",
    "\"they're\": \"they are\",\n",
    "\"they've\": \"they have\",\n",
    "\"wasn't\": \"was not\",\n",
    "\"we'd\": \"we would\",\n",
    "\"we'll\": \"we will\",\n",
    "\"we're\": \"we are\",\n",
    "\"we've\": \"we have\",\n",
    "\"weren't\": \"were not\",\n",
    "\"what'll\": \"what will\",\n",
    "\"what're\": \"what are\",\n",
    "\"what's\": \"what is\",\n",
    "\"what've\": \"what have\",\n",
    "\"where'd\": \"where did\",\n",
    "\"where's\": \"where is\",\n",
    "\"who'll\": \"who will\",\n",
    "\"who's\": \"who is\",\n",
    "\"won't\": \"will not\",\n",
    "\"wouldn't\": \"would not\",\n",
    "\"you'd\": \"you would\",\n",
    "\"you'll\": \"you will\",\n",
    "\"you're\": \"you are\"\n",
    "}"
   ]
  },
  {
   "cell_type": "code",
   "execution_count": 90,
   "metadata": {
    "pycharm": {
     "is_executing": false,
     "name": "#%%\n"
    }
   },
   "outputs": [],
   "source": [
    "def prepare_text(text, remove_stopwords = True):\n",
    "    text = text.lower().split()\n",
    "    text_with_contractions = [contractions[word] if word in contractions else word for word in text]\n",
    "    text = \" \".join(text_with_contractions)\n",
    "    #очистка слов и символов\n",
    "    text = re.sub(r'&amp;', '', text)\n",
    "    text = re.sub(r'0,0', '00', text)\n",
    "    text = re.sub(r'[_\"\\-;%()|.,+&=*%.,!?:#@\\[\\]]', ' ', text)\n",
    "    text = re.sub(r'\\'', ' ', text)\n",
    "    text = re.sub(r'\\$', ' $ ', text)\n",
    "    text = re.sub(r'u s ', ' united states ', text)\n",
    "    text = re.sub(r'u n ', ' united nations ', text)\n",
    "    text = re.sub(r'u k ', ' united kingdom ', text)\n",
    "    text = re.sub(r'j k ', ' jk ', text)\n",
    "    text = re.sub(r' s ', ' ', text)\n",
    "    text = re.sub(r' yr ', ' year ', text)\n",
    "    text = re.sub(r' l g b t ', ' lgbt ', text)\n",
    "    text = re.sub(r'0km ', '0 km ', text)\n",
    "    #убираем стоп слова\n",
    "    if remove_stopwords:\n",
    "        text = text.split()\n",
    "        text = [w for w in text if not w in set(stopwords.words(\"english\"))]\n",
    "        text = \" \".join(text)\n",
    "    return text\n",
    "#чистка заголовков\n",
    "clean_headlines = [[prepare_text(h) for h in daily_headlines]\n",
    "                   for daily_headlines in headlines]"
   ]
  },
  {
   "cell_type": "code",
   "execution_count": 27,
   "metadata": {
    "pycharm": {
     "is_executing": false,
     "name": "#%%\n"
    }
   },
   "outputs": [
    {
     "data": {
      "text/plain": [
       "['jamaica proposes marijuana dispensers tourists airports following legalisation kiosks desks would give people license purchase 2 ounces drug use stay',\n",
       " 'stephen hawking says pollution stupidity still biggest threats mankind certainly become less greedy less stupid treatment environment past decade',\n",
       " 'boris johnson says run tory party leadership',\n",
       " 'six gay men ivory coast abused forced flee homes pictured signing condolence book victims recent attack gay nightclub florida',\n",
       " 'switzerland denies citizenship muslim immigrant girls refused swim boys report',\n",
       " 'palestinian terrorist stabs israeli teen girl death bedroom',\n",
       " 'puerto rico default $ 1 billion debt friday',\n",
       " 'republic ireland fans awarded medal sportsmanship paris mayor',\n",
       " 'afghan suicide bomber kills 40 bbc news',\n",
       " 'us airstrikes kill least 250 isis fighters convoy outside fallujah official says',\n",
       " 'turkish cop took istanbul gunman hailed hero',\n",
       " 'cannabis compounds could treat alzheimer removing plaque forming proteins brain cells research suggests',\n",
       " 'japan top court approved blanket surveillance country muslims made us terrorist suspects never anything wrong says japanese muslim mohammed fujita',\n",
       " 'cia gave romania millions host secret prisons',\n",
       " 'groups urge united nations suspend saudi arabia rights council',\n",
       " 'googles free wifi indian railway stations better countrys paid services',\n",
       " 'mounting evidence suggests hobbits wiped modern humans ancestors 50000 years ago',\n",
       " 'men carried tuesday terror attack istanbul ataturk airport russia uzbekistan kyrgyzstan turkish offical said',\n",
       " 'calls suspend saudi arabia un human rights council military aggresion yemen',\n",
       " '100 nobel laureates call greenpeace anti gmo obstruction developing world',\n",
       " 'british pedophile sentenced 85 years us trafficking child abuse images domminich shaw kingpin sexual violence children sent dozens images online discussed plans assault kill child probation',\n",
       " 'us permitted 1 200 offshore fracks gulf mexico 2010 2014 allowed 72 billion gallons chemical discharge 2014',\n",
       " 'swimming ridicule french beach police carry guns swimming trunks police lifeguards frances busiest beaches carry guns bullet proof vests first time summer amid fears terrorists could target holidaymakers',\n",
       " 'uefa says minutes silence istanbul victims euro 2016 turkey already eliminated',\n",
       " 'law enforcement sources gun used paris terrorist attacks came phoenix']"
      ]
     },
     "execution_count": 27,
     "metadata": {},
     "output_type": "execute_result"
    }
   ],
   "source": [
    "clean_headlines[0]"
   ]
  },
  {
   "cell_type": "code",
   "execution_count": 91,
   "metadata": {
    "pycharm": {
     "is_executing": false,
     "name": "#%%\n"
    }
   },
   "outputs": [
    {
     "name": "stdout",
     "output_type": "stream",
     "text": [
      "Размер словаря: 35190\n"
     ]
    }
   ],
   "source": [
    "#кол-во использований слов и размер словаря\n",
    "word_counts = {}\n",
    "for date in clean_headlines:\n",
    "    for headline in date:\n",
    "        for word in headline.split():\n",
    "            if word not in word_counts:\n",
    "                word_counts[word] = 1\n",
    "            else:\n",
    "                word_counts[word] += 1         \n",
    "print(\"Размер словаря:\", len(word_counts))"
   ]
  },
  {
   "cell_type": "code",
   "execution_count": 29,
   "metadata": {
    "pycharm": {
     "is_executing": false,
     "name": "#%%\n"
    }
   },
   "outputs": [
    {
     "name": "stdout",
     "output_type": "stream",
     "text": [
      "Соотношений слов: 2196017\n"
     ]
    }
   ],
   "source": [
    "#загружаем соотношение слов из словаря glove\n",
    "embeddings_index = {}\n",
    "with open('glove.840B.300d.txt', encoding='utf-8') as f:\n",
    "    for line in f:\n",
    "        values = line.split(' ')\n",
    "        word = values[0]\n",
    "        embedding = np.asarray(values[1:], dtype='float32')\n",
    "        embeddings_index[word] = embedding\n",
    "print('Соотношений слов:', len(embeddings_index))"
   ]
  },
  {
   "cell_type": "code",
   "execution_count": 30,
   "metadata": {
    "pycharm": {
     "is_executing": false,
     "name": "#%%\n"
    }
   },
   "outputs": [
    {
     "name": "stdout",
     "output_type": "stream",
     "text": [
      "Количество слов, не найденных в GloVe: 47\n",
      "Процент не найденных слов: 0.13%\n"
     ]
    }
   ],
   "source": [
    "#оставляем слова встречающиеся 10 раз+\n",
    "missing_words = 0\n",
    "threshold = 10\n",
    "for word, count in word_counts.items():\n",
    "    if count > threshold and word not in embeddings_index:\n",
    "            missing_words += 1\n",
    "missing_ratio = round(missing_words/len(word_counts), 4) * 100\n",
    "print(\"Количество слов, не найденных в GloVe:\", missing_words)\n",
    "print(\"Процент не найденных слов: {}%\".format(missing_ratio))"
   ]
  },
  {
   "cell_type": "code",
   "execution_count": 31,
   "metadata": {
    "pycharm": {
     "is_executing": false,
     "name": "#%%\n"
    }
   },
   "outputs": [
    {
     "name": "stdout",
     "output_type": "stream",
     "text": [
      "Общее количество уникальных слов: 35190\n",
      "Количество слов, которые будут использованы: 31265\n",
      "Процент слов, которые будут использованы: 88.85%\n"
     ]
    }
   ],
   "source": [
    "vocab_to_int = {}\n",
    "value = 0\n",
    "for word, count in word_counts.items():\n",
    "    if count >= threshold or word in embeddings_index:\n",
    "        vocab_to_int[word] = value\n",
    "        value += 1\n",
    "codes = [\"<UNK>\", \"<PAD>\"]\n",
    "#добавляем обозначения в словарь\n",
    "for code in codes:\n",
    "    vocab_to_int[code] = len(vocab_to_int)\n",
    "int_to_vocab = {value : word for word, value in vocab_to_int.items()}\n",
    "usage_ratio = round(len(vocab_to_int) / len(word_counts),4) * 100\n",
    "print(\"Общее количество уникальных слов:\", len(word_counts))\n",
    "print(\"Количество слов, которые будут использованы:\", len(vocab_to_int))\n",
    "print(\"Процент слов, которые будут использованы: {}%\".format(usage_ratio))"
   ]
  },
  {
   "cell_type": "code",
   "execution_count": 33,
   "metadata": {
    "pycharm": {
     "is_executing": false,
     "name": "#%%\n"
    }
   },
   "outputs": [
    {
     "name": "stdout",
     "output_type": "stream",
     "text": [
      "31265\n"
     ]
    }
   ],
   "source": [
    "#необходимо использовать 300 для установки соотношений, чтобы совпадало с векторами glove\n",
    "dimensions = 300\n",
    "nb_words = len(vocab_to_int)\n",
    "#создается нулевая матрица\n",
    "matrix = np.zeros((nb_words, dimensions))\n",
    "for word, i in vocab_to_int.items():\n",
    "    if word in embeddings_index:\n",
    "        matrix[i] = embeddings_index[word]\n",
    "    else:\n",
    "        #если соотношение для слова не найдено, создается случайное соотношение\n",
    "        new_embedding = np.array(np.random.uniform(-1.0, 1.0, dimensions))\n",
    "        embeddings_index[word] = new_embedding\n",
    "        matrix[i] = new_embedding\n",
    "#проверка матрицы на совпадение с кол-вом слов\n",
    "print(len(matrix))"
   ]
  },
  {
   "cell_type": "code",
   "execution_count": 37,
   "metadata": {
    "pycharm": {
     "is_executing": false,
     "name": "#%%\n"
    }
   },
   "outputs": [
    {
     "name": "stdout",
     "output_type": "stream",
     "text": [
      "Количество слов во всех заголовках: 615989\n",
      "Количество неизвестных в заголовках: 5262\n",
      "Процент неизвестных слов: 0.8500000000000001%\n"
     ]
    }
   ],
   "source": [
    "#если слово не в словаре, то заменяем на UNK\n",
    "word_count = 0\n",
    "unk_count = 0\n",
    "int_headlines = []\n",
    "for date in clean_headlines:\n",
    "    int_daily_headlines = []\n",
    "    for headline in date:\n",
    "        int_headline = []\n",
    "        for word in headline.split():\n",
    "            word_count += 1\n",
    "            if word in vocab_to_int:\n",
    "                int_headline.append(vocab_to_int[word])\n",
    "            else:\n",
    "                int_headline.append(vocab_to_int[\"<UNK>\"])\n",
    "                unk_count += 1\n",
    "        int_daily_headlines.append(int_headline)\n",
    "    int_headlines.append(int_daily_headlines)\n",
    "unk_percent = round(unk_count/word_count, 4) * 100\n",
    "print(\"Количество слов во всех заголовках:\", word_count)\n",
    "print(\"Количество неизвестных в заголовках:\", unk_count)\n",
    "print(\"Процент неизвестных слов: {}%\".format(unk_percent))"
   ]
  },
  {
   "cell_type": "code",
   "execution_count": 38,
   "metadata": {
    "pycharm": {
     "is_executing": false,
     "name": "#%%\n"
    }
   },
   "outputs": [],
   "source": [
    "lengths = []\n",
    "for date in int_headlines:\n",
    "    for headline in date:\n",
    "        lengths.append(len(headline))\n",
    "lengths = pd.DataFrame(lengths, columns=['counts'])"
   ]
  },
  {
   "cell_type": "code",
   "execution_count": 39,
   "metadata": {
    "pycharm": {
     "is_executing": false,
     "name": "#%%\n"
    }
   },
   "outputs": [
    {
     "data": {
      "text/html": [
       "<div>\n",
       "<style scoped>\n",
       "    .dataframe tbody tr th:only-of-type {\n",
       "        vertical-align: middle;\n",
       "    }\n",
       "\n",
       "    .dataframe tbody tr th {\n",
       "        vertical-align: top;\n",
       "    }\n",
       "\n",
       "    .dataframe thead th {\n",
       "        text-align: right;\n",
       "    }\n",
       "</style>\n",
       "<table border=\"1\" class=\"dataframe\">\n",
       "  <thead>\n",
       "    <tr style=\"text-align: right;\">\n",
       "      <th></th>\n",
       "      <th>counts</th>\n",
       "    </tr>\n",
       "  </thead>\n",
       "  <tbody>\n",
       "    <tr>\n",
       "      <th>count</th>\n",
       "      <td>49693.000000</td>\n",
       "    </tr>\n",
       "    <tr>\n",
       "      <th>mean</th>\n",
       "      <td>12.395891</td>\n",
       "    </tr>\n",
       "    <tr>\n",
       "      <th>std</th>\n",
       "      <td>6.790246</td>\n",
       "    </tr>\n",
       "    <tr>\n",
       "      <th>min</th>\n",
       "      <td>1.000000</td>\n",
       "    </tr>\n",
       "    <tr>\n",
       "      <th>25%</th>\n",
       "      <td>7.000000</td>\n",
       "    </tr>\n",
       "    <tr>\n",
       "      <th>50%</th>\n",
       "      <td>10.000000</td>\n",
       "    </tr>\n",
       "    <tr>\n",
       "      <th>75%</th>\n",
       "      <td>16.000000</td>\n",
       "    </tr>\n",
       "    <tr>\n",
       "      <th>max</th>\n",
       "      <td>41.000000</td>\n",
       "    </tr>\n",
       "  </tbody>\n",
       "</table>\n",
       "</div>"
      ],
      "text/plain": [
       "             counts\n",
       "count  49693.000000\n",
       "mean      12.395891\n",
       "std        6.790246\n",
       "min        1.000000\n",
       "25%        7.000000\n",
       "50%       10.000000\n",
       "75%       16.000000\n",
       "max       41.000000"
      ]
     },
     "execution_count": 39,
     "metadata": {},
     "output_type": "execute_result"
    }
   ],
   "source": [
    "lengths.describe()"
   ]
  },
  {
   "cell_type": "code",
   "execution_count": 42,
   "metadata": {
    "pycharm": {
     "is_executing": false,
     "name": "#%%\n"
    }
   },
   "outputs": [],
   "source": [
    "#ограничение на длину заголовка в 16 слов и на 200 слов в день\n",
    "#таким образом уменьшаем время обучения и балансируем оба показателя\n",
    "max_headline_length = 16\n",
    "max_daily_length = 200\n",
    "pad_headlines = []\n",
    "for date in int_headlines:\n",
    "    pad_daily_headlines = []\n",
    "    for headline in date:\n",
    "        #добавляем заголовок если он меньше макс длины\n",
    "        if len(headline) <= max_headline_length:\n",
    "            for word in headline:\n",
    "                pad_daily_headlines.append(word)\n",
    "        #ограничиваем, если больше\n",
    "        else:\n",
    "            headline = headline[:max_headline_length]\n",
    "            for word in headline:\n",
    "                pad_daily_headlines.append(word)\n",
    "    if len(pad_daily_headlines) < max_daily_length:\n",
    "        for i in range(max_daily_length-len(pad_daily_headlines)):\n",
    "            pad = vocab_to_int[\"<PAD>\"]\n",
    "            pad_daily_headlines.append(pad)\n",
    "    #ограничиваем дневные заголовки если больше макс длины\n",
    "    else:\n",
    "        pad_daily_headlines = pad_daily_headlines[:max_daily_length]\n",
    "    pad_headlines.append(pad_daily_headlines)"
   ]
  },
  {
   "cell_type": "code",
   "execution_count": 44,
   "metadata": {
    "pycharm": {
     "is_executing": false,
     "name": "#%%\n"
    }
   },
   "outputs": [
    {
     "name": "stdout",
     "output_type": "stream",
     "text": [
      "0.0\n",
      "1.0\n",
      "0.42595416981159084\n"
     ]
    }
   ],
   "source": [
    "#нормализация цены открытия(целевое значение)\n",
    "max_price = max(price)\n",
    "min_price = min(price)\n",
    "mean_price = np.mean(price)\n",
    "norm_price = [(p - min_price)/(max_price-min_price) for p in price]\n",
    "print(min(norm_price))\n",
    "print(max(norm_price))\n",
    "print(np.mean(norm_price))"
   ]
  },
  {
   "cell_type": "code",
   "execution_count": 49,
   "metadata": {
    "pycharm": {
     "is_executing": false,
     "name": "#%%\n"
    }
   },
   "outputs": [],
   "source": [
    "#делим датасет на тренировочную и тестовую выборки\n",
    "x_train, x_test, y_train, y_test = train_test_split(pad_headlines, norm_price, test_size = 0.15, random_state = 2)\n",
    "x_train = np.array(x_train)\n",
    "x_test = np.array(x_test)\n",
    "y_train = np.array(y_train)\n",
    "y_test = np.array(y_test)"
   ]
  },
  {
   "cell_type": "code",
   "execution_count": 50,
   "metadata": {
    "pycharm": {
     "is_executing": false,
     "name": "#%%\n"
    }
   },
   "outputs": [
    {
     "name": "stdout",
     "output_type": "stream",
     "text": [
      "1689\n",
      "299\n"
     ]
    }
   ],
   "source": [
    "#проверка на длину\n",
    "print(len(x_train))\n",
    "print(len(x_test))"
   ]
  },
  {
   "cell_type": "code",
   "execution_count": 51,
   "metadata": {
    "pycharm": {
     "is_executing": false,
     "name": "#%%\n"
    }
   },
   "outputs": [],
   "source": [
    "filter_length1 = 3\n",
    "filter_length2 = 5\n",
    "dropout = 0.5\n",
    "learning_rate = 0.001\n",
    "weights = initializers.TruncatedNormal(mean=0.0, stddev=0.1, seed=2)\n",
    "nb_filter = 16\n",
    "rnn_output_size = 128\n",
    "hidden_dims = 128\n",
    "wider = True\n",
    "deeper = True\n",
    "numbers_of_models = 2\n",
    "if wider:\n",
    "    nb_filter *= 2\n",
    "    rnn_output_size *= 2\n",
    "    hidden_dims *= 2\n",
    "def build_model():\n",
    "    def create_models(number_of_model):\n",
    "        models = [Sequential() for x in range(number_of_model)]\n",
    "        for obj in models:\n",
    "            obj.add(Embedding(nb_words,\n",
    "                                   dimensions,\n",
    "                                   weights=[matrix],\n",
    "                                   input_length=max_daily_length))\n",
    "            obj.add(Dropout(dropout))\n",
    "            obj.add(Convolution1D(filters=nb_filter,\n",
    "                                       kernel_size=filter_length1,\n",
    "                                       padding='same',\n",
    "                                       activation='relu'))\n",
    "            obj.add(Dropout(dropout))\n",
    "            if deeper:\n",
    "                obj.add(Convolution1D(filters=nb_filter,\n",
    "                                           kernel_size=filter_length1,\n",
    "                                           padding='same',\n",
    "                                           activation='relu'))\n",
    "                obj.add(Dropout(dropout))\n",
    "            obj.add(LSTM(rnn_output_size,\n",
    "                              activation=None,\n",
    "                              kernel_initializer=weights,\n",
    "                              dropout=dropout))\n",
    "        return models\n",
    "    list_of_models = create_models(numbers_of_models)\n",
    "    model = Sequential()\n",
    "    model.add(Merge(list_of_models, mode='concat'))\n",
    "    model.add(Dense(hidden_dims, kernel_initializer=weights))\n",
    "    model.add(Dropout(dropout))\n",
    "    if deeper:\n",
    "        model.add(Dense(hidden_dims//2, kernel_initializer=weights))\n",
    "        model.add(Dropout(dropout))\n",
    "    model.add(Dense(1,\n",
    "                    kernel_initializer=weights,\n",
    "                    name='output'))\n",
    "    model.compile(loss='mean_squared_error',\n",
    "                  optimizer=Adam(lr=learning_rate, clipvalue=1.0))\n",
    "    return model"
   ]
  },
  {
   "cell_type": "code",
   "execution_count": 52,
   "metadata": {
    "pycharm": {
     "is_executing": false,
     "name": "#%%\n"
    }
   },
   "outputs": [
    {
     "name": "stdout",
     "output_type": "stream",
     "text": [
      "WARNING:tensorflow:From /Users/valentin/opt/anaconda3/lib/python3.7/site-packages/tensorflow/python/ops/math_ops.py:3066: to_int32 (from tensorflow.python.ops.math_ops) is deprecated and will be removed in a future version.\n",
      "Instructions for updating:\n",
      "Use tf.cast instead.\n"
     ]
    },
    {
     "name": "stderr",
     "output_type": "stream",
     "text": [
      "/Users/valentin/opt/anaconda3/lib/python3.7/site-packages/ipykernel_launcher.py:43: UserWarning: The `Merge` layer is deprecated and will be removed after 08/2017. Use instead layers from `keras.layers.merge`, e.g. `add`, `concatenate`, etc.\n"
     ]
    },
    {
     "name": "stdout",
     "output_type": "stream",
     "text": [
      "Train on 1435 samples, validate on 254 samples\n",
      "Epoch 1/100\n",
      "1435/1435 [==============================] - 31s - loss: 0.0291 - val_loss: 0.0038\n",
      "Epoch 2/100\n",
      "1435/1435 [==============================] - 28s - loss: 0.0058 - val_loss: 0.0030\n",
      "Epoch 3/100\n",
      "1435/1435 [==============================] - 28s - loss: 0.0041 - val_loss: 0.0028\n",
      "Epoch 4/100\n",
      "1435/1435 [==============================] - 28s - loss: 0.0034 - val_loss: 0.0028\n",
      "Epoch 5/100\n",
      "1435/1435 [==============================] - 28s - loss: 0.0032 - val_loss: 0.0030\n",
      "Epoch 6/100\n",
      "1435/1435 [==============================] - 27s - loss: 0.0030 - val_loss: 0.0028\n",
      "Epoch 7/100\n",
      "1408/1435 [============================>.] - ETA: 0s - loss: 0.0029\n",
      "Epoch 00006: reducing learning rate to 0.00020000000949949026.\n",
      "1435/1435 [==============================] - 28s - loss: 0.0029 - val_loss: 0.0028\n",
      "Epoch 8/100\n",
      "1435/1435 [==============================] - 27s - loss: 0.0027 - val_loss: 0.0029\n",
      "Epoch 9/100\n",
      "1435/1435 [==============================] - 26s - loss: 0.0026 - val_loss: 0.0029\n",
      "Epoch 10/100\n",
      "1408/1435 [============================>.] - ETA: 0s - loss: 0.0025\n",
      "Epoch 00009: reducing learning rate to 4.0000001899898055e-05.\n",
      "1435/1435 [==============================] - 26s - loss: 0.0025 - val_loss: 0.0028\n",
      "Epoch 11/100\n",
      "1435/1435 [==============================] - 26s - loss: 0.0024 - val_loss: 0.0028\n",
      "Epoch 12/100\n",
      "1435/1435 [==============================] - 26s - loss: 0.0023 - val_loss: 0.0028\n",
      "Epoch 00011: early stopping\n",
      "Train on 1435 samples, validate on 254 samples\n",
      "Epoch 1/100\n",
      "1435/1435 [==============================] - 29s - loss: 0.0328 - val_loss: 0.0050\n",
      "Epoch 2/100\n",
      "1435/1435 [==============================] - 26s - loss: 0.0093 - val_loss: 0.0045\n",
      "Epoch 3/100\n",
      "1435/1435 [==============================] - 26s - loss: 0.0060 - val_loss: 0.0029\n",
      "Epoch 4/100\n",
      "1435/1435 [==============================] - 27s - loss: 0.0051 - val_loss: 0.0028\n",
      "Epoch 5/100\n",
      "1435/1435 [==============================] - 27s - loss: 0.0046 - val_loss: 0.0029\n",
      "Epoch 6/100\n",
      "1435/1435 [==============================] - 27s - loss: 0.0044 - val_loss: 0.0034\n",
      "Epoch 7/100\n",
      "1435/1435 [==============================] - 26s - loss: 0.0041 - val_loss: 0.0027\n",
      "Epoch 8/100\n",
      "1408/1435 [============================>.] - ETA: 0s - loss: 0.0040\n",
      "Epoch 00007: reducing learning rate to 0.00020000000949949026.\n",
      "1435/1435 [==============================] - 26s - loss: 0.0040 - val_loss: 0.0028\n",
      "Epoch 9/100\n",
      "1435/1435 [==============================] - 26s - loss: 0.0039 - val_loss: 0.0028\n",
      "Epoch 10/100\n",
      "1435/1435 [==============================] - 26s - loss: 0.0037 - val_loss: 0.0027\n",
      "Epoch 11/100\n",
      "1408/1435 [============================>.] - ETA: 0s - loss: 0.0037\n",
      "Epoch 00010: reducing learning rate to 4.0000001899898055e-05.\n",
      "1435/1435 [==============================] - 26s - loss: 0.0038 - val_loss: 0.0027\n",
      "Epoch 12/100\n",
      "1435/1435 [==============================] - 26s - loss: 0.0037 - val_loss: 0.0027\n",
      "Epoch 13/100\n",
      "1435/1435 [==============================] - 26s - loss: 0.0036 - val_loss: 0.0027\n",
      "Epoch 14/100\n",
      "1408/1435 [============================>.] - ETA: 0s - loss: 0.0036\n",
      "Epoch 00013: reducing learning rate to 8.000000525498762e-06.\n",
      "1435/1435 [==============================] - 26s - loss: 0.0036 - val_loss: 0.0027\n",
      "Epoch 15/100\n",
      "1435/1435 [==============================] - 26s - loss: 0.0038 - val_loss: 0.0027\n",
      "Epoch 16/100\n",
      "1435/1435 [==============================] - 26s - loss: 0.0039 - val_loss: 0.0027\n",
      "Epoch 00015: early stopping\n",
      "Train on 1435 samples, validate on 254 samples\n",
      "Epoch 1/100\n",
      "1435/1435 [==============================] - 31s - loss: 0.1026 - val_loss: 0.0099\n",
      "Epoch 2/100\n",
      "1435/1435 [==============================] - 27s - loss: 0.0134 - val_loss: 0.0066\n",
      "Epoch 3/100\n",
      "1435/1435 [==============================] - 28s - loss: 0.0049 - val_loss: 0.0041\n",
      "Epoch 4/100\n",
      "1435/1435 [==============================] - 28s - loss: 0.0040 - val_loss: 0.0030\n",
      "Epoch 5/100\n",
      "1435/1435 [==============================] - 27s - loss: 0.0034 - val_loss: 0.0028\n",
      "Epoch 6/100\n",
      "1435/1435 [==============================] - 28s - loss: 0.0034 - val_loss: 0.0027\n",
      "Epoch 7/100\n",
      "1435/1435 [==============================] - 27s - loss: 0.0033 - val_loss: 0.0027\n",
      "Epoch 8/100\n",
      "1435/1435 [==============================] - 28s - loss: 0.0032 - val_loss: 0.0027\n",
      "Epoch 9/100\n",
      "1435/1435 [==============================] - 28s - loss: 0.0032 - val_loss: 0.0027\n",
      "Epoch 10/100\n",
      "1435/1435 [==============================] - 26s - loss: 0.0029 - val_loss: 0.0027\n",
      "Epoch 11/100\n",
      "1408/1435 [============================>.] - ETA: 0s - loss: 0.0029\n",
      "Epoch 00010: reducing learning rate to 0.00020000000949949026.\n",
      "1435/1435 [==============================] - 26s - loss: 0.0029 - val_loss: 0.0027\n",
      "Epoch 12/100\n",
      "1435/1435 [==============================] - 28s - loss: 0.0029 - val_loss: 0.0027\n",
      "Epoch 13/100\n",
      "1435/1435 [==============================] - 27s - loss: 0.0029 - val_loss: 0.0027\n",
      "Epoch 14/100\n",
      "1408/1435 [============================>.] - ETA: 0s - loss: 0.0028\n",
      "Epoch 00013: reducing learning rate to 4.0000001899898055e-05.\n",
      "1435/1435 [==============================] - 27s - loss: 0.0028 - val_loss: 0.0027\n",
      "Epoch 15/100\n",
      "1435/1435 [==============================] - 27s - loss: 0.0028 - val_loss: 0.0027\n",
      "Epoch 16/100\n",
      "1435/1435 [==============================] - 27s - loss: 0.0027 - val_loss: 0.0027\n",
      "Epoch 00015: early stopping\n",
      "Train on 1435 samples, validate on 254 samples\n",
      "Epoch 1/100\n",
      "1435/1435 [==============================] - 33s - loss: 0.0331 - val_loss: 0.0131\n",
      "Epoch 2/100\n",
      "1435/1435 [==============================] - 31s - loss: 0.0101 - val_loss: 0.0034\n",
      "Epoch 3/100\n",
      "1435/1435 [==============================] - 31s - loss: 0.0060 - val_loss: 0.0030\n",
      "Epoch 4/100\n",
      "1435/1435 [==============================] - 31s - loss: 0.0053 - val_loss: 0.0028\n",
      "Epoch 5/100\n",
      "1435/1435 [==============================] - 28s - loss: 0.0045 - val_loss: 0.0027\n",
      "Epoch 6/100\n",
      "1435/1435 [==============================] - 28s - loss: 0.0043 - val_loss: 0.0027\n",
      "Epoch 7/100\n",
      "1435/1435 [==============================] - 28s - loss: 0.0041 - val_loss: 0.0027\n",
      "Epoch 8/100\n",
      "1435/1435 [==============================] - 27s - loss: 0.0042 - val_loss: 0.0031\n",
      "Epoch 9/100\n",
      "1408/1435 [============================>.] - ETA: 0s - loss: 0.0042\n",
      "Epoch 00008: reducing learning rate to 0.00020000000949949026.\n",
      "1435/1435 [==============================] - 28s - loss: 0.0042 - val_loss: 0.0028\n",
      "Epoch 10/100\n",
      "1435/1435 [==============================] - 28s - loss: 0.0038 - val_loss: 0.0026\n",
      "Epoch 11/100\n",
      "1435/1435 [==============================] - 30s - loss: 0.0038 - val_loss: 0.0026\n",
      "Epoch 12/100\n",
      "1408/1435 [============================>.] - ETA: 0s - loss: 0.0038\n",
      "Epoch 00011: reducing learning rate to 4.0000001899898055e-05.\n",
      "1435/1435 [==============================] - 29s - loss: 0.0038 - val_loss: 0.0027\n",
      "Epoch 13/100\n",
      "1435/1435 [==============================] - 27s - loss: 0.0038 - val_loss: 0.0027\n",
      "Epoch 14/100\n",
      "1435/1435 [==============================] - 29s - loss: 0.0036 - val_loss: 0.0026\n",
      "Epoch 15/100\n",
      "1408/1435 [============================>.] - ETA: 0s - loss: 0.0036\n",
      "Epoch 00014: reducing learning rate to 8.000000525498762e-06.\n",
      "1435/1435 [==============================] - 30s - loss: 0.0036 - val_loss: 0.0026\n",
      "Epoch 16/100\n",
      "1435/1435 [==============================] - 28s - loss: 0.0036 - val_loss: 0.0026\n",
      "Epoch 17/100\n",
      "1435/1435 [==============================] - 32s - loss: 0.0038 - val_loss: 0.0026\n",
      "Epoch 00016: early stopping\n"
     ]
    }
   ],
   "source": [
    "#подбор параметров по сетке для поиска наилучшей модели\n",
    "for deeper in [False]:\n",
    "    for wider in [True, False]:\n",
    "        for learning_rate in [0.001]:\n",
    "            for dropout in [0.3, 0.5]:\n",
    "                model = build_model()\n",
    "                save_best_weights = 'question_pairs_weights_deeper={}_wider={}_lr={}_dropout={}.h5'.format(\n",
    "                    deeper, wider, learning_rate, dropout)\n",
    "                callbacks = [\n",
    "                    ModelCheckpoint(save_best_weights, monitor='val_loss',\n",
    "                                    save_best_only=True),\n",
    "                    EarlyStopping(monitor='val_loss', patience=5, verbose=1,\n",
    "                                  mode='auto'),\n",
    "                    ReduceLROnPlateau(monitor='val_loss', factor=0.2, verbose=1,\n",
    "                                      patience=3)]\n",
    "                history = model.fit([x_train, x_train],\n",
    "                                    y_train,\n",
    "                                    batch_size=128,\n",
    "                                    epochs=100,\n",
    "                                    validation_split=0.15,\n",
    "                                    verbose=True,\n",
    "                                    shuffle=True,\n",
    "                                    callbacks=callbacks)"
   ]
  },
  {
   "cell_type": "code",
   "execution_count": 53,
   "metadata": {
    "pycharm": {
     "is_executing": false,
     "name": "#%%\n"
    }
   },
   "outputs": [
    {
     "name": "stderr",
     "output_type": "stream",
     "text": [
      "/Users/valentin/opt/anaconda3/lib/python3.7/site-packages/ipykernel_launcher.py:43: UserWarning: The `Merge` layer is deprecated and will be removed after 08/2017. Use instead layers from `keras.layers.merge`, e.g. `add`, `concatenate`, etc.\n"
     ]
    },
    {
     "name": "stdout",
     "output_type": "stream",
     "text": [
      "299/299 [==============================] - 2s     \n"
     ]
    }
   ],
   "source": [
    "#предсказывание с наилучшими весами\n",
    "deeper = False\n",
    "wider = False\n",
    "dropout = 0.3\n",
    "learning_Rate = 0.001\n",
    "model = build_model()\n",
    "model.load_weights('./question_pairs_weights_deeper={}_wider={}_lr={}_dropout={}.h5'.format(\n",
    "                    deeper, wider, learning_rate, dropout))\n",
    "predictions = model.predict([x_test, x_test], verbose=True)"
   ]
  },
  {
   "cell_type": "code",
   "execution_count": 55,
   "metadata": {
    "pycharm": {
     "is_executing": false,
     "name": "#%%\n"
    }
   },
   "outputs": [
    {
     "data": {
      "text/plain": [
       "0.0025712138369961913"
      ]
     },
     "execution_count": 55,
     "metadata": {},
     "output_type": "execute_result"
    }
   ],
   "source": [
    "#сравниваем\n",
    "mse(y_test, predictions)"
   ]
  },
  {
   "cell_type": "code",
   "execution_count": 61,
   "metadata": {
    "pycharm": {
     "is_executing": false,
     "name": "#%%\n"
    }
   },
   "outputs": [
    {
     "data": {
      "text/plain": [
       "23.086578025390736"
      ]
     },
     "execution_count": 61,
     "metadata": {},
     "output_type": "execute_result"
    }
   ],
   "source": [
    "def denormalize(price):\n",
    "    return price * (max_price-min_price) + min_price\n",
    "denormalized_predictions = [denormalize(pred) for pred in predictions]\n",
    "denormalized_y_test = [denormalize(y) for y in y_test]\n",
    "#вычисяем среднюю абсолютную ошибку для прогноза\n",
    "mae(denormalized_y_test, denormalized_predictions)"
   ]
  },
  {
   "cell_type": "code",
   "execution_count": 62,
   "metadata": {
    "pycharm": {
     "is_executing": false,
     "name": "#%%\n"
    }
   },
   "outputs": [
    {
     "name": "stdout",
     "output_type": "stream",
     "text": [
      "Фактические изменения цены открытия\n",
      "                 \n",
      "count  299.000000\n",
      "mean     3.272187\n",
      "std     39.127553\n",
      "min    -89.000000\n",
      "25%    -20.095093\n",
      "50%     -2.129883\n",
      "75%     23.269898\n",
      "max    203.459960\n",
      "\n",
      "Прогнозные изменения цены открытия\n",
      "                 \n",
      "count  299.000000\n",
      "mean    -3.741862\n",
      "std      5.044222\n",
      "min    -18.754852\n",
      "25%     -7.344711\n",
      "50%     -4.625275\n",
      "75%     -1.219666\n",
      "max     19.618378\n"
     ]
    }
   ],
   "source": [
    "print(\"Фактические изменения цены открытия\")\n",
    "print(pd.DataFrame(denormalized_y_test, columns=[\"\"]).describe())\n",
    "print()\n",
    "print(\"Прогнозные изменения цены открытия\")\n",
    "print(pd.DataFrame(denormalized_predictions, columns=[\"\"]).describe())"
   ]
  },
  {
   "cell_type": "code",
   "execution_count": 64,
   "metadata": {
    "pycharm": {
     "is_executing": false,
     "name": "#%%\n"
    }
   },
   "outputs": [
    {
     "data": {
      "image/png": "[encoded data removed]",
      "text/plain": [
       "<Figure size 864x288 with 1 Axes>"
      ]
     },
     "metadata": {
      "needs_background": "light"
     },
     "output_type": "display_data"
    }
   ],
   "source": [
    "plt.figure(figsize=(12, 4))\n",
    "plt.plot(denormalized_predictions)\n",
    "plt.plot(denormalized_y_test)\n",
    "plt.title(\"Предсказания - синий цвет,  фактическая динамика цены открытия - оранжевый\")\n",
    "plt.xlabel(\"Испытания\")\n",
    "plt.ylabel(\"Динамика цены открытия\")\n",
    "plt.show()"
   ]
  },
  {
   "cell_type": "code",
   "execution_count": 68,
   "metadata": {
    "pycharm": {
     "is_executing": false,
     "name": "#%%\n"
    }
   },
   "outputs": [
    {
     "name": "stdout",
     "output_type": "stream",
     "text": [
      "Прогнозируемые значения соответствуют фактическим в 48.83% случаев.\n"
     ]
    }
   ],
   "source": [
    "#создание списков для измерения, увеличилась или уменьшилась цена открытия\n",
    "direction_pred = [1 if pred >= 0 else 0 for pred in denormalized_predictions]\n",
    "direction_test = [1 if value >= 0 else 0 for value in denormalized_y_test]\n",
    "direction = acc(direction_test, direction_pred)\n",
    "direction = round(direction, 4) * 100\n",
    "print(\"Прогнозируемые значения соответствуют фактическим в {}% случаев.\".format(direction))"
   ]
  }
 ],
 "metadata": {
  "anaconda-cloud": {},
  "kernelspec": {
   "display_name": "Python 3",
   "language": "python",
   "name": "python3"
  },
  "language_info": {
   "codemirror_mode": {
    "name": "ipython",
    "version": 3
   },
   "file_extension": ".py",
   "mimetype": "text/x-python",
   "name": "python",
   "nbconvert_exporter": "python",
   "pygments_lexer": "ipython3",
   "version": "3.7.6"
  },
  "pycharm": {
   "stem_cell": {
    "cell_type": "raw",
    "metadata": {
     "collapsed": false
    },
    "source": []
   }
  }
 },
 "nbformat": 4,
 "nbformat_minor": 1
}
